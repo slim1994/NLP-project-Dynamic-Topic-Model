{
 "cells": [
  {
   "cell_type": "code",
   "execution_count": null,
   "metadata": {},
   "outputs": [],
   "source": [
    "import pandas as pd\n",
    "import nltk\n",
    "# ^^^ pyforest auto-imports - don't write above this line\n",
    "import pandas as pd\n",
    "import nltk\n",
    "import pandas as pd\n",
    "import numpy\n",
    "import datetime\n",
    "import pandas as pd\n",
    "import time\n",
    "import re\n",
    "from nltk.corpus import stopwords\n",
    "from nltk import word_tokenize\n",
    "import string\n",
    "import gensim\n",
    "import gensim.corpora as corpora\n",
    "from gensim.models import LdaMulticore\n",
    "from os import path\n",
    "from gensim.models import CoherenceModel\n",
    "from gensim.models import ldaseqmodel\n",
    "from pprint import pprint"
   ]
  },
  {
   "cell_type": "code",
   "execution_count": null,
   "metadata": {},
   "outputs": [],
   "source": [
    "my_df = pd.read_pickle(\"./tweets_per_weeks.pkl\")"
   ]
  },
  {
   "cell_type": "code",
   "execution_count": null,
   "metadata": {},
   "outputs": [],
   "source": [
    "my_df_clean=pd.read_pickle(\"./clean_tweets_per_weeks.pkl\")"
   ]
  },
  {
   "cell_type": "code",
   "execution_count": null,
   "metadata": {},
   "outputs": [],
   "source": [
    "data_clean = my_df_clean.tweet"
   ]
  },
  {
   "cell_type": "code",
   "execution_count": null,
   "metadata": {},
   "outputs": [],
   "source": [
    "data = my_df.tweet.values.tolist()"
   ]
  },
  {
   "cell_type": "code",
   "execution_count": null,
   "metadata": {},
   "outputs": [],
   "source": [
    "# Create Dictionary\n",
    "id2word = corpora.Dictionary(data_clean)"
   ]
  },
  {
   "cell_type": "code",
   "execution_count": null,
   "metadata": {},
   "outputs": [],
   "source": [
    "vocab=sorted([id2word[i] for i in range(len(id2word))])"
   ]
  },
  {
   "cell_type": "code",
   "execution_count": null,
   "metadata": {},
   "outputs": [],
   "source": [
    "[[(id2word[id], freq) for id, freq in cp] for cp in corpus[:1]]\n"
   ]
  },
  {
   "cell_type": "code",
   "execution_count": null,
   "metadata": {},
   "outputs": [],
   "source": [
    "id2word[25]"
   ]
  },
  {
   "cell_type": "code",
   "execution_count": null,
   "metadata": {},
   "outputs": [],
   "source": [
    "# Term Document Frequency\n",
    "corpus = [id2word.doc2bow(text) for text in data_clean]"
   ]
  },
  {
   "cell_type": "code",
   "execution_count": null,
   "metadata": {},
   "outputs": [],
   "source": [
    "\n",
    "my_df['weeks']=my_df['weeks'].replace(\"weeks_\", \"fortnight\",regex=True)"
   ]
  },
  {
   "cell_type": "code",
   "execution_count": null,
   "metadata": {},
   "outputs": [],
   "source": [
    "dates= [\"2019-03-31\",\"2019-04-14\",\"2019-04-28\",\"2019-05-12\",\"2019-05-26\",\"2019-06-09\",\"2019-06-24\",\"2019-07-07\",\"2019-07-21\",\"2019-08-04\",\"2019-08-18\",\"2019-09-01\",\"2019-09-15\"\n",
    "        ,\"2019-09-29\",\"2019-10-13\",\"2019-10-27\",\"2019-11-10\",\"2019-11-24\",\"2019-12-08\",\"2019-12-22\",\"2020-01-05\",\"2020-01-19\",\"2020-02-02\",\"2020-02-16\",\"2020-03-01\",\"2020-03-15\"]"
   ]
  },
  {
   "cell_type": "code",
   "execution_count": null,
   "metadata": {},
   "outputs": [],
   "source": [
    "my_df_clean=pd.read_pickle(\"./clean_tweets_per_weeks.pkl\")"
   ]
  },
  {
   "cell_type": "code",
   "execution_count": null,
   "metadata": {},
   "outputs": [],
   "source": [
    "my_df.weeks = my_df['weeks'].replace( ['fortnight'+str(i) for i in range(1,27)],dates)"
   ]
  },
  {
   "cell_type": "code",
   "execution_count": null,
   "metadata": {},
   "outputs": [],
   "source": [
    "data_clean=list(my_df_clean.tweet)"
   ]
  },
  {
   "cell_type": "code",
   "execution_count": null,
   "metadata": {},
   "outputs": [],
   "source": [
    "print(data_clean[3:7])"
   ]
  },
  {
   "cell_type": "code",
   "execution_count": null,
   "metadata": {},
   "outputs": [],
   "source": [
    "my_df['weeks'].value_counts()[my_df['weeks'].unique()]"
   ]
  },
  {
   "cell_type": "code",
   "execution_count": null,
   "metadata": {},
   "outputs": [],
   "source": [
    "pd.DataFrame(my_df['weeks'].value_counts()[my_df['weeks'].unique()]).plot(kind=\"bar\")\n",
    "figure = plt.gcf() # get current figure\n",
    "figure.set_size_inches(8, 6)\n",
    "plt.savefig('./graphs/tweets_fres_per_fortnight.jpg', bbox_inches='tight',\n",
    "        transparent=True, dpi = 100)"
   ]
  },
  {
   "cell_type": "code",
   "execution_count": null,
   "metadata": {},
   "outputs": [],
   "source": [
    "all_per_year = my_df_clean.groupby('weeks').agg({'tweet': 'sum'})\n"
   ]
  },
  {
   "cell_type": "code",
   "execution_count": null,
   "metadata": {},
   "outputs": [],
   "source": [
    "wordcount = {}\n",
    "for tweet in my_df_clean.tweet:\n",
    "    for word in tweet:\n",
    "        if word not in wordcount:\n",
    "            wordcount[word] = 1\n",
    "        else:\n",
    "            wordcount[word] += 1\n",
    "        "
   ]
  },
  {
   "cell_type": "code",
   "execution_count": null,
   "metadata": {},
   "outputs": [],
   "source": [
    "wordcount['cancellation']"
   ]
  },
  {
   "cell_type": "code",
   "execution_count": null,
   "metadata": {},
   "outputs": [],
   "source": [
    "import collections\n",
    "word_counter = collections.Counter(wordcount)\n",
    "lst = word_counter.most_common(20)\n",
    "df = pd.DataFrame(lst, columns = ['Word', 'Count'])\n",
    "df.plot.bar(x='Word',y='Count')\n",
    "figure = plt.gcf() # get current figure\n",
    "figure.set_size_inches(8, 6)\n",
    "plt.savefig('./graphs/all_tweets_freq.jpg', bbox_inches='tight',\n",
    "        transparent=True, dpi = 100)"
   ]
  },
  {
   "cell_type": "code",
   "execution_count": null,
   "metadata": {},
   "outputs": [],
   "source": [
    "all_per_year['weeks']=list(all_per_year.index)\n"
   ]
  },
  {
   "cell_type": "code",
   "execution_count": null,
   "metadata": {},
   "outputs": [],
   "source": [
    "all_per_year"
   ]
  },
  {
   "cell_type": "code",
   "execution_count": null,
   "metadata": {},
   "outputs": [],
   "source": [
    "for i, row in all_per_year.iterrows():\n",
    "    sess = dict(nltk.FreqDist(row['tweet']))\n",
    "    sort_sess = sorted(sess.items(), key=lambda x: x[1], reverse=True)[0:25]\n",
    "    plt.barh(range(len(sort_sess)), [val[1] for val in sort_sess][::-1], align='center')\n",
    "    plt.yticks(range(len(sort_sess)), [val[0] for val in sort_sess][::-1])\n",
    "    #plt.yticks(rotation=90)\n",
    "    #plt.yticks(pad=15)\n",
    "    plt.title(\"16 most used words in fortnight %s\" % row['weeks'])\n",
    "    plt.ylim(8.5)\n",
    "    \n",
    "    figure = plt.gcf() # get current figure\n",
    "    figure.set_size_inches(8, 6)\n",
    "    string=\"16 most used words in fortnight %s\" % row['weeks']\n",
    "    plt.savefig('./graphs/'+string, bbox_inches='tight',\n",
    "            transparent=True, dpi = 100)\n",
    "    plt.show()\n",
    "    "
   ]
  },
  {
   "cell_type": "code",
   "execution_count": null,
   "metadata": {},
   "outputs": [],
   "source": [
    "#construire un dictionnaire contenant les frequences des mots par intervalle de temps \n",
    "sess={}\n",
    "for i, row in all_per_year.iterrows():\n",
    "    sess[str(i)] = dict(nltk.FreqDist(row['tweet']))\n",
    "    #sort_sess = sorted(sess.items(), key=lambda x: x[1], reverse=True)[0:25]"
   ]
  },
  {
   "cell_type": "code",
   "execution_count": null,
   "metadata": {},
   "outputs": [],
   "source": [
    "# construire le vecteur contenat le vocuablulaire global\n",
    "vocab=pd.DataFrame(vocab,columns=['key'])\n"
   ]
  },
  {
   "cell_type": "code",
   "execution_count": null,
   "metadata": {},
   "outputs": [],
   "source": [
    "len(vocab)"
   ]
  },
  {
   "cell_type": "code",
   "execution_count": null,
   "metadata": {},
   "outputs": [],
   "source": [
    "vocab_evol=vocab\n",
    "for k, v in sess.items():\n",
    "    other=pd.DataFrame(sess[k].items(),columns=['key', 'freq'+k] )\n",
    "\n",
    "    #vocab= vocab.set_index('key').join(other.set_index('key'))\n",
    "    #vocab = vocab.join(other.set_index('key'), on='key')\n",
    "    vocab_evol=vocab_evol.merge(other, how='left', on='key')\n",
    "        \n",
    " "
   ]
  },
  {
   "cell_type": "code",
   "execution_count": null,
   "metadata": {},
   "outputs": [],
   "source": [
    "vocab_evol = vocab_evol.fillna(0)"
   ]
  },
  {
   "cell_type": "code",
   "execution_count": null,
   "metadata": {},
   "outputs": [],
   "source": [
    "wordfreq = [(w,my_df_clean.tweet[1].count(w)) for w in my_df_clean.tweet[1]] # a list comprehension\n"
   ]
  },
  {
   "cell_type": "code",
   "execution_count": null,
   "metadata": {},
   "outputs": [],
   "source": [
    "wordfreq"
   ]
  },
  {
   "cell_type": "code",
   "execution_count": null,
   "metadata": {},
   "outputs": [],
   "source": [
    "#words = nltk.tokenize.word_tokenize(p)\n",
    "fdist = dict(nltk.FreqDist(list_all))"
   ]
  },
  {
   "cell_type": "code",
   "execution_count": null,
   "metadata": {},
   "outputs": [],
   "source": [
    "fdist"
   ]
  },
  {
   "cell_type": "code",
   "execution_count": null,
   "metadata": {},
   "outputs": [],
   "source": [
    "for i, row in all_per_year.iterrows():\n",
    "    sess = dict(nltk.FreqDist(row['tweet']))\n",
    "    sort_sess = sorted(sess.items(), key=lambda x: x[1], reverse=True)[0:25]"
   ]
  },
  {
   "cell_type": "code",
   "execution_count": null,
   "metadata": {},
   "outputs": [],
   "source": [
    "freqs = {}\n",
    "for i, speech in my_df_clean.iterrows():\n",
    "    year = speech['weeks']\n",
    "    for token in speech['tweet']:\n",
    "        if token not in freqs:\n",
    "            freqs[token] = {\"total_freq\":1, year:1}\n",
    "        else:\n",
    "            freqs[token][\"total_freq\"] += 1\n",
    "            if not freqs[token].get(year):\n",
    "                freqs[token][year] = 1\n",
    "            else:\n",
    "                freqs[token][year] += 1"
   ]
  },
  {
   "cell_type": "code",
   "execution_count": null,
   "metadata": {},
   "outputs": [],
   "source": [
    "sess"
   ]
  },
  {
   "cell_type": "code",
   "execution_count": null,
   "metadata": {},
   "outputs": [],
   "source": [
    "freqs"
   ]
  },
  {
   "cell_type": "code",
   "execution_count": null,
   "metadata": {},
   "outputs": [],
   "source": [
    "freqs_df = pd.DataFrame.from_dict(freqs, orient='index')\n",
    "freqs_df['word'] = freqs_df.index"
   ]
  },
  {
   "cell_type": "code",
   "execution_count": null,
   "metadata": {},
   "outputs": [],
   "source": [
    "freqs_df"
   ]
  },
  {
   "cell_type": "code",
   "execution_count": null,
   "metadata": {},
   "outputs": [],
   "source": [
    "# Example of data for the stem of the word \"peace\"\n",
    "freqs_df[freqs_df.index == \"dental\"]\n"
   ]
  },
  {
   "cell_type": "code",
   "execution_count": null,
   "metadata": {},
   "outputs": [],
   "source": [
    "new_cols = [\"total_freq\", \"word\"] + sorted(freqs_df.columns.tolist()[1:-1])\n",
    "freqs_df = freqs_df[new_cols]\n",
    "\n",
    "freqs_df = freqs_df.sort_values('total_freq', ascending=False)\n",
    "\n",
    "freqs_df.head()"
   ]
  },
  {
   "cell_type": "code",
   "execution_count": null,
   "metadata": {},
   "outputs": [],
   "source": [
    "freqs_df.iloc[2:10, 1:47].transpose().iloc[1:].plot(title=\"Most common words\")\n"
   ]
  },
  {
   "cell_type": "code",
   "execution_count": null,
   "metadata": {},
   "outputs": [],
   "source": [
    "freqs_df[freqs_df['word'].isin(['dental'])].iloc[:,1:].transpose().iloc[1:].plot(title = \"\")\n"
   ]
  },
  {
   "cell_type": "code",
   "execution_count": null,
   "metadata": {},
   "outputs": [],
   "source": []
  }
 ],
 "metadata": {
  "kernelspec": {
   "display_name": "Python 3",
   "language": "python",
   "name": "python3"
  },
  "language_info": {
   "codemirror_mode": {
    "name": "ipython",
    "version": 3
   },
   "file_extension": ".py",
   "mimetype": "text/x-python",
   "name": "python",
   "nbconvert_exporter": "python",
   "pygments_lexer": "ipython3",
   "version": "3.7.3"
  }
 },
 "nbformat": 4,
 "nbformat_minor": 2
}
